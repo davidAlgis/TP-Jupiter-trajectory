{
  "nbformat": 4,
  "nbformat_minor": 0,
  "metadata": {
    "colab": {
      "provenance": []
    },
    "kernelspec": {
      "name": "python3",
      "display_name": "Python 3"
    },
    "language_info": {
      "name": "python"
    }
  },
  "cells": [
    {
      "cell_type": "markdown",
      "source": [
        "Cliquer sur les symboles ``Play`` pour lancer le code."
      ],
      "metadata": {
        "id": "MqwdR5noF5pz"
      }
    },
    {
      "cell_type": "code",
      "execution_count": 3,
      "metadata": {
        "colab": {
          "base_uri": "https://localhost:8080/"
        },
        "id": "sGcZV53yFOr1",
        "outputId": "18369696-e696-49b1-81a7-2e0cf483c354"
      },
      "outputs": [
        {
          "output_type": "stream",
          "name": "stdout",
          "text": [
            "Requirement already satisfied: astroquery in /usr/local/lib/python3.11/dist-packages (0.4.9.post1)\n",
            "Requirement already satisfied: astropy in /usr/local/lib/python3.11/dist-packages (7.0.0)\n",
            "Requirement already satisfied: matplotlib in /usr/local/lib/python3.11/dist-packages (3.10.0)\n",
            "Requirement already satisfied: numpy in /usr/local/lib/python3.11/dist-packages (1.26.4)\n",
            "Requirement already satisfied: requests>=2.19 in /usr/local/lib/python3.11/dist-packages (from astroquery) (2.32.3)\n",
            "Requirement already satisfied: beautifulsoup4>=4.8 in /usr/local/lib/python3.11/dist-packages (from astroquery) (4.13.3)\n",
            "Requirement already satisfied: html5lib>=0.999 in /usr/local/lib/python3.11/dist-packages (from astroquery) (1.1)\n",
            "Requirement already satisfied: keyring>=15.0 in /usr/lib/python3/dist-packages (from astroquery) (23.5.0)\n",
            "Requirement already satisfied: pyvo>=1.5 in /usr/local/lib/python3.11/dist-packages (from astroquery) (1.6.1)\n",
            "Requirement already satisfied: pyerfa>=2.0.1.1 in /usr/local/lib/python3.11/dist-packages (from astropy) (2.0.1.5)\n",
            "Requirement already satisfied: astropy-iers-data>=0.2024.10.28.0.34.7 in /usr/local/lib/python3.11/dist-packages (from astropy) (0.2025.2.3.0.32.42)\n",
            "Requirement already satisfied: PyYAML>=6.0.0 in /usr/local/lib/python3.11/dist-packages (from astropy) (6.0.2)\n",
            "Requirement already satisfied: packaging>=22.0.0 in /usr/local/lib/python3.11/dist-packages (from astropy) (24.2)\n",
            "Requirement already satisfied: contourpy>=1.0.1 in /usr/local/lib/python3.11/dist-packages (from matplotlib) (1.3.1)\n",
            "Requirement already satisfied: cycler>=0.10 in /usr/local/lib/python3.11/dist-packages (from matplotlib) (0.12.1)\n",
            "Requirement already satisfied: fonttools>=4.22.0 in /usr/local/lib/python3.11/dist-packages (from matplotlib) (4.55.8)\n",
            "Requirement already satisfied: kiwisolver>=1.3.1 in /usr/local/lib/python3.11/dist-packages (from matplotlib) (1.4.8)\n",
            "Requirement already satisfied: pillow>=8 in /usr/local/lib/python3.11/dist-packages (from matplotlib) (11.1.0)\n",
            "Requirement already satisfied: pyparsing>=2.3.1 in /usr/local/lib/python3.11/dist-packages (from matplotlib) (3.2.1)\n",
            "Requirement already satisfied: python-dateutil>=2.7 in /usr/local/lib/python3.11/dist-packages (from matplotlib) (2.8.2)\n",
            "Requirement already satisfied: soupsieve>1.2 in /usr/local/lib/python3.11/dist-packages (from beautifulsoup4>=4.8->astroquery) (2.6)\n",
            "Requirement already satisfied: typing-extensions>=4.0.0 in /usr/local/lib/python3.11/dist-packages (from beautifulsoup4>=4.8->astroquery) (4.12.2)\n",
            "Requirement already satisfied: six>=1.9 in /usr/local/lib/python3.11/dist-packages (from html5lib>=0.999->astroquery) (1.17.0)\n",
            "Requirement already satisfied: webencodings in /usr/local/lib/python3.11/dist-packages (from html5lib>=0.999->astroquery) (0.5.1)\n",
            "Requirement already satisfied: charset-normalizer<4,>=2 in /usr/local/lib/python3.11/dist-packages (from requests>=2.19->astroquery) (3.4.1)\n",
            "Requirement already satisfied: idna<4,>=2.5 in /usr/local/lib/python3.11/dist-packages (from requests>=2.19->astroquery) (3.10)\n",
            "Requirement already satisfied: urllib3<3,>=1.21.1 in /usr/local/lib/python3.11/dist-packages (from requests>=2.19->astroquery) (2.3.0)\n",
            "Requirement already satisfied: certifi>=2017.4.17 in /usr/local/lib/python3.11/dist-packages (from requests>=2.19->astroquery) (2025.1.31)\n"
          ]
        }
      ],
      "source": [
        "!pip install astroquery astropy matplotlib numpy"
      ]
    },
    {
      "cell_type": "code",
      "source": [
        "from astroquery.jplhorizons import Horizons\n",
        "import matplotlib.pyplot as plt\n",
        "from astropy.time import Time\n",
        "import numpy as np\n",
        "\n",
        "def compute_error(sim_x, sim_y, sim_z, ref_x, ref_y, ref_z):\n",
        "    distances_sim = np.sqrt(sim_x**2 + sim_y**2 + sim_z**2)\n",
        "    distances_ref = np.sqrt(ref_x**2 + ref_y**2 + ref_z**2)\n",
        "    error = np.abs((distances_sim - distances_ref) / distances_ref) * 100\n",
        "    return np.mean(error), error\n",
        "\n",
        "def init(dt, start_date, end_date):\n",
        "    print(\"Initialisation des paramètres...\")\n",
        "    step_size = f'{dt}d'\n",
        "    obj = Horizons(id='599', location='@sun', epochs={'start': start_date, 'stop': end_date, 'step': step_size})\n",
        "    vec = obj.vectors()\n",
        "    x = np.array(vec['x'], dtype=float)\n",
        "    y = np.array(vec['y'], dtype=float)\n",
        "    z = np.array(vec['z'], dtype=float)\n",
        "    vx = np.array(vec['vx'], dtype=float)\n",
        "    vy = np.array(vec['vy'], dtype=float)\n",
        "    vz = np.array(vec['vz'], dtype=float)\n",
        "    return x, y, z, vx, vy, vz\n",
        "\n",
        "def plot_results(x, y, z, sim_x, sim_y, sim_z, start_date, end_date, do_plot):\n",
        "    print(\"Affichage des résultats...\")\n",
        "    erreur_moyenne, erreurs = compute_error(sim_x, sim_y, sim_z, x, y, z)\n",
        "    if do_plot:\n",
        "        fig = plt.figure(figsize=(10, 6))\n",
        "        ax = fig.add_subplot(111, projection='3d')\n",
        "        nbr_simply = 50\n",
        "        ax.plot(x[::nbr_simply], y[::nbr_simply], z[::nbr_simply], marker='o', linestyle='-', label='Jupiter Trajectory (Horizons)', rasterized=True)\n",
        "        ax.plot(sim_x[::nbr_simply], sim_y[::nbr_simply], sim_z[::nbr_simply], marker='.', linestyle='--', color='green', label='Simulated Trajectory (Euler)', rasterized=True)\n",
        "        ax.scatter(0, 0, 0, color='orange', marker='*', s=200, label='Soleil', rasterized=True)\n",
        "        ax.set_xlabel('X (UA)')\n",
        "        ax.set_ylabel('Y (UA)')\n",
        "        ax.set_zlabel('Z (UA)')\n",
        "        ax.set_title(f'Trajectoire Héliocentrique de Jupiter ({start_date} - {end_date})')\n",
        "        plt.legend()\n",
        "        plt.show()\n",
        "    print(f\"Erreur relative moyenne de la simulation Euler par rapport aux données Horizons : {erreur_moyenne:.4f} %\")\n",
        "    if erreur_moyenne < 5:\n",
        "        print(\"Vous avez réussi l'erreur moyenne est inférieure à 5% ! Bravo 🎉\")\n",
        "    return erreur_moyenne\n"
      ],
      "metadata": {
        "id": "GyY5YrDLFvaa"
      },
      "execution_count": null,
      "outputs": []
    },
    {
      "cell_type": "markdown",
      "source": [
        "C'est ça qu'il faut compléter:"
      ],
      "metadata": {
        "id": "QorTcDxBGCe8"
      }
    },
    {
      "cell_type": "code",
      "source": [
        "\n",
        "def euler_method(x0, y0, z0, vx0, vy0, vz0, dt, n_steps):\n",
        "    print(\"Simulation à partir de la méthode d'Euler...\")\n",
        "    sim_x = np.zeros(n_steps)\n",
        "    sim_y = np.zeros(n_steps)\n",
        "    sim_z = np.zeros(n_steps)\n",
        "    sim_vx = np.zeros(n_steps)\n",
        "    sim_vy = np.zeros(n_steps)\n",
        "    sim_vz = np.zeros(n_steps)\n",
        "    # Implémentez ici la méthode d'Euler pour calculer les positions et vitesses\n",
        "    return sim_x, sim_y, sim_z\n",
        "\n",
        "start_date = '2010-01-01'\n",
        "end_date = '2025-02-13'\n",
        "dt = 1\n",
        "do_plot = True\n",
        "\n",
        "x, y, z, vx, vy, vz = init(dt, start_date, end_date)\n",
        "sim_x, sim_y, sim_z = euler_method(x[0], y[0], z[0], vx[0], vy[0], vz[0], dt, len(x))\n",
        "plot_results(x, y, z, sim_x, sim_y, sim_z, start_date, end_date, do_plot)"
      ],
      "metadata": {
        "id": "roz_CHp5Fy-c"
      },
      "execution_count": null,
      "outputs": []
    }
  ]
}